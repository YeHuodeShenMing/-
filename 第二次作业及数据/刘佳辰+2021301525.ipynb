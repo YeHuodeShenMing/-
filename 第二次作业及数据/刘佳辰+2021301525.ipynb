{
 "cells": [
  {
   "cell_type": "markdown",
   "metadata": {
    "collapsed": true,
    "pycharm": {
     "name": "#%% md\n"
    }
   },
   "source": [
    "## 作业目录\n",
    "### 1.单变量线性回归\n",
    "#### 1.1 导入数据\n",
    "#### 1.2 查看数据及其特征\n",
    "#### 1.3 定义线性回归的代价函数\n",
    "#### 1.4 数据预处理\n",
    "#### 1.5 设置权重向量 w\n",
    "#### 1.6 计算代价函数\n",
    "### 2.Batch Gradient Decent（批量梯度下降）\n",
    "#### 2.1 实现批量梯度下降算法\n",
    "#### 2.2 初始化变量\n",
    "#### 2.3 运行梯度下降算法\n",
    "#### 2.4 计算训练模型的代价函数(误差)\n",
    "#### 2.5 绘制线性模型并显示数据，查看拟合效果\n",
    "### 3.多变量线性回归\n",
    "#### 3.1 加载数据集\n",
    "#### 3.2 特征标准化\n",
    "#### 3.3 数据预处理并运行线性回归程序\n",
    "#### 3.4 计算模型的代价(误差)\n",
    "#### 3.5 查看训练进程\n",
    "#### 3.6 使用scikit-learn的实现线性回归\n",
    "### 4.L2正则化\n",
    "### 5.L1正则化\n",
    "### 6.调参\n",
    "### 7. 最小二乘法(LSM)"
   ]
  },
  {
   "cell_type": "markdown",
   "metadata": {},
   "source": [
    "刘佳辰 2021301525"
   ]
  },
  {
   "cell_type": "code",
   "execution_count": null,
   "metadata": {
    "collapsed": false,
    "pycharm": {
     "name": "#%%\n"
    }
   },
   "outputs": [],
   "source": [
    "# 例：导入函数库，并进行相关设置\n",
    "import numpy as np\n",
    "import pandas as pd\n",
    "import matplotlib.pyplot as plt\n",
    "\n",
    "plt.rcParams['font.sans-serif']=['SimHei'] #用来正常显示中文标签\n",
    "plt.rcParams['axes.unicode_minus']=False #用来正常显示负号"
   ]
  },
  {
   "cell_type": "code",
   "execution_count": null,
   "metadata": {
    "collapsed": false,
    "pycharm": {
     "name": "#%%\n"
    }
   },
   "outputs": [],
   "source": [
    "#1.1 使用 pandas 库函数读取 regress_data1.csv 文件内的数据，将读入的数据命名为 data、\n",
    "data  = pd.DataFrame(pd.read_csv(\"regress_data1.csv\"))\n",
    "data"
   ]
  },
  {
   "cell_type": "code",
   "execution_count": null,
   "metadata": {
    "collapsed": false,
    "pycharm": {
     "name": "#%%\n"
    }
   },
   "outputs": [],
   "source": [
    "# 1.2 （1）使用 data.head()查看导入的数据\n",
    "#     （2)使用 data.describe() 查看数据特征\n",
    "#     （3)根据读入的数据绘制散点图，x轴为\"人口\"，y轴为\"收益\"，\n",
    "#          需要将标签转移成水平方向，所有字体的大小设置为18"
   ]
  },
  {
   "cell_type": "code",
   "execution_count": null,
   "metadata": {},
   "outputs": [],
   "source": [
    "# 1.2.(1)使用 data.head()查看导入的数据\n",
    "data.head()\n"
   ]
  },
  {
   "cell_type": "code",
   "execution_count": null,
   "metadata": {},
   "outputs": [],
   "source": [
    "# 1.2.(2)使用 data.describe() 查看数据特征\n",
    "data.describe()"
   ]
  },
  {
   "cell_type": "code",
   "execution_count": null,
   "metadata": {},
   "outputs": [],
   "source": [
    "# 1.2.(3)根据读入的数据绘制散点图，x轴为\"人口\"，y轴为\"收益\"，\n",
    "ax = data.plot.scatter(x=\"人口\",y=\"收益\")\n",
    "plt.xlabel(\"人口\",fontsize = 18)\n",
    "plt.ylabel(\"收益\",fontsize = 18,rotation = 0,labelpad = 20)\n",
    "ax.tick_params(axis=\"both\",labelsize = 18)\n",
    "plt.show()"
   ]
  },
  {
   "cell_type": "code",
   "execution_count": null,
   "metadata": {
    "collapsed": false,
    "pycharm": {
     "name": "#%%\n"
    }
   },
   "outputs": [],
   "source": [
    "# 1.3 定义线性回归的代价函数\n",
    "def computeCost(X, y, w):\n",
    "    \"\"\"\n",
    "    计算线性回归模型的代价函数。\n",
    "    参数：\n",
    "    X -- 特征矩阵，形状为 (n_samples, n_features)\n",
    "    y -- 标签向量，形状为 (n_samples,1)\n",
    "    w -- 权重向量，形状为 (n_features,1)\n",
    "\n",
    "    返回值：\n",
    "    代价函数的值\n",
    "    \"\"\"\n",
    "    inner = np.power(X @ w - y, 2)  # 计算预测值与实际值之差的平方和\n",
    "    return np.sum(inner) / (2 * len(X))  # 对平方和进行求和并除以样本数量的两倍，得到代价函数的值"
   ]
  },
  {
   "cell_type": "code",
   "execution_count": null,
   "metadata": {
    "collapsed": false,
    "pycharm": {
     "name": "#%%\n"
    }
   },
   "outputs": [],
   "source": [
    "#1.4.(1)将一列名为'Ones'的值全为1的列插入到 data 的第一列位置\n",
    "data.insert(0,\"Ones\",1)"
   ]
  },
  {
   "cell_type": "code",
   "execution_count": null,
   "metadata": {},
   "outputs": [],
   "source": [
    "#1.4.(2)获取 data 的列数\n",
    "column = data.shape[1]"
   ]
  },
  {
   "cell_type": "code",
   "execution_count": null,
   "metadata": {},
   "outputs": [],
   "source": [
    "#1.4.(3)获取除最后一列外的所有列作为特征矩阵X\n",
    "X = data.iloc[:,:2]"
   ]
  },
  {
   "cell_type": "code",
   "execution_count": null,
   "metadata": {},
   "outputs": [],
   "source": [
    "#1.4.(4)获取最后一列作为目标变量y\n",
    "y = data.iloc[:,[-1]]"
   ]
  },
  {
   "cell_type": "code",
   "execution_count": null,
   "metadata": {},
   "outputs": [],
   "source": [
    "#1.4.(5)使用 head() 函数观察下 X (训练集) 和 y (目标变量)是否正确.\n",
    "X.head()"
   ]
  },
  {
   "cell_type": "code",
   "execution_count": null,
   "metadata": {},
   "outputs": [],
   "source": [
    "#1.4.(5)使用 head() 函数观察下 X (训练集) 和 y (目标变量)是否正确.\n",
    "y.head()"
   ]
  },
  {
   "cell_type": "code",
   "execution_count": null,
   "metadata": {},
   "outputs": [],
   "source": [
    "#1.4.(6)使用DataFrame类型数据的values属性将 X 和 y 转换为 Numpy 矩阵\n",
    "X = X.values\n",
    "y = y.values"
   ]
  },
  {
   "cell_type": "code",
   "execution_count": null,
   "metadata": {
    "collapsed": false,
    "pycharm": {
     "name": "#%%\n"
    }
   },
   "outputs": [],
   "source": [
    "#1.5 （1）使用 Numpy 初始化权重向量 w，w 的行数与 X 的列数相同，w 的列数为1，且要求初始时w的所有值为0\n",
    "w = np.zeros((X.shape[1],1))"
   ]
  },
  {
   "cell_type": "code",
   "execution_count": null,
   "metadata": {},
   "outputs": [],
   "source": [
    "#1.5    （2）查看 X、w和 y 的维度\n",
    "print(\"X的维度:\",X.shape)\n",
    "print(\"w的维度:\",w.shape)\n",
    "print(\"y的维度:\",y.shape)"
   ]
  },
  {
   "cell_type": "code",
   "execution_count": null,
   "metadata": {
    "collapsed": false,
    "pycharm": {
     "name": "#%%\n"
    }
   },
   "outputs": [],
   "source": [
    "#1.6 使用 computeCost 计算代价\n",
    "cost = computeCost(X, y, w)\n",
    "print(cost)"
   ]
  },
  {
   "cell_type": "code",
   "execution_count": null,
   "metadata": {
    "collapsed": false,
    "pycharm": {
     "name": "#%%\n"
    }
   },
   "outputs": [],
   "source": [
    "# 2.1 实现批量梯度下降算法\n",
    "def batch_gradientDescent(X, y, w, alpha, count):\n",
    "    \"\"\"\n",
    "    批量梯度下降算法实现。\n",
    "\n",
    "    参数：\n",
    "    X -- 特征矩阵，形状为 (n_samples, n_features)\n",
    "    y -- 标签向量，形状为 (n_samples,1)\n",
    "    w -- 权重向量，形状为 (n_features,1)\n",
    "    alpha -- 学习率\n",
    "    count -- 迭代次数\n",
    "\n",
    "    返回值：\n",
    "    w -- 更新后的权重向量\n",
    "    costs -- 每次迭代的代价函数值列表\n",
    "    \"\"\"\n",
    "    # 初始化代价函数值列表\n",
    "    costs = []\n",
    "\n",
    "    # 对每个样本进行迭代\n",
    "    for i in range(count):\n",
    "        # 根据公式更新权重向量\n",
    "        w = w - (X.T @ (X @ w - y)) * alpha / len(X)\n",
    "\n",
    "        # 计算当前代价函数值并添加到列表中\n",
    "        cost = computeCost(X, y, w)\n",
    "        costs.append(cost)\n",
    "\n",
    "        # 每隔100次迭代输出一次当前代价函数值\n",
    "        if i % 100 == 0:\n",
    "            print(\"在第{}次迭代中，cost的值是：{}。\".format(i, cost))\n",
    "\n",
    "    # 返回最终的权重向量和代价函数值列表\n",
    "    return w, costs"
   ]
  },
  {
   "cell_type": "code",
   "execution_count": null,
   "metadata": {
    "collapsed": false,
    "pycharm": {
     "name": "#%%\n"
    }
   },
   "outputs": [],
   "source": [
    "#2.2 初始化学习率 alpha = 0.01 ，迭代次数 iter = 2000\n",
    "alpha = 0.01\n",
    "iter = 2000"
   ]
  },
  {
   "cell_type": "code",
   "execution_count": null,
   "metadata": {
    "collapsed": false,
    "pycharm": {
     "name": "#%%\n"
    }
   },
   "outputs": [],
   "source": [
    "#2.3 使用 batch_gradientDescent 函数获取更新后的权重向量 w 和 损失值数组 cost，并输出权重向量 w\n",
    "w,costs = batch_gradientDescent(X, y, w, alpha, iter)\n",
    "print(w)"
   ]
  },
  {
   "cell_type": "code",
   "execution_count": null,
   "metadata": {
    "collapsed": false,
    "pycharm": {
     "name": "#%%\n"
    }
   },
   "outputs": [],
   "source": [
    "#2.4 使用 computeCost 函数重新计算代价并输出\n",
    "computeCost(X,y,w)"
   ]
  },
  {
   "cell_type": "code",
   "execution_count": null,
   "metadata": {
    "collapsed": false,
    "pycharm": {
     "name": "#%%\n"
    }
   },
   "outputs": [],
   "source": [
    "#2.5 绘制代价随迭代次数变化的折线图\n",
    "#2.5.(1) 创建图形和轴对象\n",
    "#2.5.(2) 绘制代价随迭代次数的变化曲线\n",
    "#2.5.(3) 设置x轴和y轴标签，x轴为\"迭代次数\"，y轴为\"代价\"\n",
    "#2.5.(4) 设置图标题为\"误差和训练Epoch数\"\n",
    "#2.5.(5) 显示图形\n",
    "fig,ax = plt.subplots()\n",
    "ax.plot(range(len(costs)),costs,\"r\")\n",
    "ax.tick_params(axis=\"both\",labelsize = 18)\n",
    "plt.xlabel(\"迭代次数\",fontsize = 18)\n",
    "plt.ylabel(\"代价\",labelpad = 20,fontsize = 18)\n",
    "plt.title(\"误差和训练Epoch数\",fontsize = 18)\n",
    "plt.show()"
   ]
  },
  {
   "cell_type": "code",
   "execution_count": null,
   "metadata": {
    "collapsed": false,
    "pycharm": {
     "name": "#%%\n"
    }
   },
   "outputs": [],
   "source": [
    "#3.1 （1）使用pandas库读取 regress_data2.csv 内的数据，将读入的数据命名为 data2\n",
    "#    （2）使用 head() 查看读入的数据\n",
    "data2 = pd.DataFrame(pd.read_csv(\"regress_data2.csv\"))\n",
    "data2.head()"
   ]
  },
  {
   "cell_type": "code",
   "execution_count": null,
   "metadata": {
    "collapsed": false,
    "pycharm": {
     "name": "#%%\n"
    }
   },
   "outputs": [],
   "source": [
    "#3.2 对数据进行标准化 x =（x - x_mean）/x_std，随后使用head()查看标准化后的数据\n",
    "mean = data2.mean()\n",
    "std = data2.std()\n",
    "\n",
    "data2 = (data2 - mean) / std\n",
    "\n",
    "data2.head()"
   ]
  },
  {
   "cell_type": "code",
   "execution_count": null,
   "metadata": {
    "collapsed": false,
    "pycharm": {
     "name": "#%%\n"
    }
   },
   "outputs": [],
   "source": [
    "#3.3 重复第1部分的预处理步骤，并对新数据集运行线性回归程序\n",
    "#(1)添加一列全为1的列，在第一列处，且列名为\"Ones\"\n",
    "#(2)设置X2（训练数据）和y2（目标变量），最后一列设置为目标变量y2，其余列设置为X2\n",
    "#(3)将X2和y2转化为Numpy类型的数据，并设置权重向量w2，w2是大小(3,1)的权重向量，使用np.zeros()函数进行初始化\n",
    "#(4)使用batch_gradientDescent函数在数据集上进行线性回归，并获取训练后的权重向量w2和损失值数组cost2\n",
    "data2.insert(0,\"Ones\",1)\n",
    "X2 = data2.iloc[:,:3]\n",
    "y2 = data2.iloc[:,[-1]]\n",
    "X2 = X2.values\n",
    "y2 = y2.values\n",
    "w2 = np.zeros((3,1))\n",
    "w2,cost2 = batch_gradientDescent(X2,y2,w2,alpha,iter)"
   ]
  },
  {
   "cell_type": "code",
   "execution_count": null,
   "metadata": {
    "collapsed": false,
    "pycharm": {
     "name": "#%%\n"
    }
   },
   "outputs": [],
   "source": [
    "#3.4 使用 computeCost 计算模型代价（针对w2）\n",
    "computeCost(X2,y2,w2)"
   ]
  },
  {
   "cell_type": "code",
   "execution_count": null,
   "metadata": {
    "collapsed": false,
    "pycharm": {
     "name": "#%%\n"
    }
   },
   "outputs": [],
   "source": [
    "#3.5 查看训练进程（绘制代价随迭代次数变化的折线图）\n",
    "#(1) 创建一个大小为 (12, 8) 的画布和坐标轴对象\n",
    "#(2) 在坐标轴上绘制代价函数 cost2 随迭代次数 iters 的变化曲线，使用红色线条\n",
    "#(3) 设置 x 轴标签为 \"迭代次数\",字体大小为 18\n",
    "#(4) 设置 y 轴标签为 \"代价\",旋转角度为 0,字体大小为 18\n",
    "#(4) 设置图表标题为 \"误差和训练Epoch数\",字体大小为 18\n",
    "#(5) 显示图形\n",
    "fig,ax = plt.subplots(figsize=(12,8))\n",
    "ax.plot(range(len(cost2)),cost2,\"r\")\n",
    "ax.tick_params(axis=\"both\",labelsize = 18)\n",
    "plt.xlabel(\"迭代次数\",fontsize = 18)\n",
    "plt.ylabel(\"代价\",fontsize = 18,rotation = 0,labelpad = 20)\n",
    "plt.title(\"误差和训练Epoch数\",fontsize = 18)\n",
    "plt.show()"
   ]
  },
  {
   "cell_type": "code",
   "execution_count": null,
   "metadata": {
    "collapsed": false,
    "pycharm": {
     "name": "#%%\n"
    }
   },
   "outputs": [],
   "source": [
    "#3.6 使用scikit-learn的线性回归函数\n",
    "#(1)从 sklearn.linear_model 库中导入线性回归模型 LinearRegression\n",
    "from sklearn.linear_model import LinearRegression"
   ]
  },
  {
   "cell_type": "code",
   "execution_count": null,
   "metadata": {},
   "outputs": [],
   "source": [
    "#3.6.(2)创建线性回归模型对象\n",
    "clf = LinearRegression()"
   ]
  },
  {
   "cell_type": "code",
   "execution_count": null,
   "metadata": {},
   "outputs": [],
   "source": [
    "#3.6.(3)使用训练数据 X 和标签 y 对模型进行拟合\n",
    "clf.fit(X[:,1:2],y)"
   ]
  },
  {
   "cell_type": "code",
   "execution_count": null,
   "metadata": {},
   "outputs": [],
   "source": [
    "#3.6.(4)查看scikit-learn model的预测表现\n",
    "#  1） 取特征矩阵 X 的第二列作为自变量 x\n",
    "x = X[:, 1]\n",
    "x = x.reshape(-1,1)\n",
    "#  2） 使用模型对x进行预测，并将预测结果展平为一维数组 f\n",
    "f = clf.predict(x).flatten()\n",
    "#  3） 创建画布和坐标轴对象\n",
    "fig,ax = plt.subplots(figsize=(12,8))\n",
    "ax.tick_params(axis=\"both\",labelsize = 18)\n",
    "#  4） 在坐标轴上绘制预测值 f 随人口规模 x 的变化曲线，使用红色线条，并添加标签为\"预测值\"\n",
    "ax.plot(x,f,\"r\",label = \"预测值\")\n",
    "#  5） 在坐标轴上绘制训练数据点的散点图，并添加标签为\"训练数据\"\n",
    "ax.scatter(x,y,label = \"训练数据\")\n",
    "#  6） 显示图例，并设置位置和字体大小（loc = 2,fontsize=18）\n",
    "ax.legend(loc=2,fontsize = 18)\n",
    "#  7） 设置 x 轴标签为\"人口\"，字体大小为18\n",
    "ax.set_xlabel('人口', fontsize=18)\n",
    "#  8） 设置 y 轴标签为\"收益\"，旋转角度为0，字体大小为18\n",
    "ax.set_ylabel('收益', rotation=0, fontsize=18,labelpad = 20)\n",
    "#  9） 设置图表标题为\"预测收益和人口规模\"，字体大小为18\n",
    "ax.set_title(\"预测收益与人口规模\", fontsize=18)\n",
    "#  10）显示图表\n",
    "print(f\"clf's coef:{clf.coef_}\")\n",
    "plt.show()"
   ]
  },
  {
   "cell_type": "code",
   "execution_count": null,
   "metadata": {
    "collapsed": false,
    "pycharm": {
     "name": "#%%\n"
    }
   },
   "outputs": [],
   "source": [
    "#4 L2正则化\n",
    "#（1）从 sklearn.linear_model 导入岭回归模型 Ridge\n",
    "from sklearn.linear_model import Ridge\n",
    "#（2）使用 Ridge 创建模型\n",
    "lr = Ridge()\n",
    "#（3）对X和y使用 Ridge的fit()函数更新模型的参数\n",
    "lr.fit(X[:,1:2],y)\n",
    "#（4）重复3.5(4)中的步骤，绘制图表：\n",
    "#  1） 取特征矩阵 X 的第二列作为自变量 x\n",
    "x = X[:, 1]\n",
    "x= x.reshape(-1,1)\n",
    "#  2） 使用模型对x进行预测，并将预测结果展平为一维数组 f\n",
    "f = lr.predict(x).flatten()\n",
    "#  3） 创建画布和坐标轴对象\n",
    "fig1,ax1 = plt.subplots(figsize = (12,8))\n",
    "#  4） 在坐标轴上绘制预测值 f 随人口规模 x 的变化曲线，使用红色线条，并添加标签为\"预测值Ridge\"\n",
    "ax1.plot(x,f,\"r\",label = \"预测值Ridge\")\n",
    "ax1.tick_params(axis=\"both\",labelsize = 18)\n",
    "#  5） 在坐标轴上绘制训练数据点的散点图，并添加标签为\"训练数据\"\n",
    "ax1.scatter(x,y,label = \"训练数据\")\n",
    "#  6） 显示图例，并设置位置和字体大小（loc = 2,fontsize=18）\n",
    "ax1.legend(loc=2,fontsize = 18)\n",
    "#  7） 设置 x 轴标签为\"人口\"，字体大小为18\n",
    "ax1.set_xlabel('人口', fontsize=18)\n",
    "#  8） 设置 y 轴标签为\"收益\"，旋转角度为0，字体大小为18\n",
    "ax1.set_ylabel('收益', rotation=0, fontsize=18,labelpad = 20)\n",
    "#  9） 设置图表标题为\"预测收益和人口规模\"，字体大小为18\n",
    "ax1.set_title(\"预测收益与人口规模\", fontsize=18)\n",
    "print(f\"ridge's coef:{lr.coef_}\")"
   ]
  },
  {
   "cell_type": "code",
   "execution_count": null,
   "metadata": {
    "collapsed": false,
    "pycharm": {
     "name": "#%%\n"
    }
   },
   "outputs": [],
   "source": [
    "#5 L1正则化\n",
    "#（1）从 sklearn.linear_model 导入回归模型 Lasso\n",
    "from sklearn.linear_model import Lasso\n",
    "#（2）使用 Lasso 创建模型\n",
    "lasso = Lasso()\n",
    "#（3）对X和y使用 Lasso的fit()函数更新模型的参数\n",
    "lasso.fit(X[:,1:2],y)\n",
    "#（4） 重复4(4)中的步骤，绘制图表：\n",
    "#  1） 取特征矩阵 X 的第二列作为自变量 x\n",
    "x = X[:, 1]\n",
    "x= x.reshape(-1,1)\n",
    "#  2） 使用模型对x进行预测，并将预测结果展平为一维数组 f\n",
    "f = lasso.predict(x).flatten()\n",
    "#  3） 创建画布和坐标轴对象\n",
    "fig2,ax2 = plt.subplots(figsize = (12,8))\n",
    "#  4） 在坐标轴上绘制预测值 f 随人口规模 x 的变化曲线，使用红色线条，并添加标签为\"预测值Lasso\"\n",
    "ax2.plot(x,f,\"r\",label = \"预测值Lasso\")\n",
    "ax2.tick_params(axis=\"both\",labelsize = 18)\n",
    "#  5） 在坐标轴上绘制训练数据点的散点图，并添加标签为\"训练数据\"\n",
    "ax2.scatter(x,y,label = \"训练数据\")\n",
    "#  6） 显示图例，并设置位置和字体大小（loc = 2,fontsize=18）\n",
    "ax2.legend(loc=2,fontsize = 18)\n",
    "#  7） 设置 x 轴标签为\"人口\"，字体大小为18\n",
    "ax2.set_xlabel('人口', fontsize=18)\n",
    "#  8） 设置 y 轴标签为\"收益\"，旋转角度为0，字体大小为18\n",
    "ax2.set_ylabel('收益', rotation=0, fontsize=18,labelpad = 20)\n",
    "#  9） 设置图表标题为\"预测收益和人口规模\"，字体大小为18\n",
    "ax2.set_title(\"预测收益与人口规模\", fontsize=18)\n",
    "print(f\"lasso's coef:{lasso.coef_}\")\n",
    "plt.show()"
   ]
  },
  {
   "cell_type": "code",
   "execution_count": null,
   "metadata": {
    "collapsed": false,
    "pycharm": {
     "name": "#%%\n"
    }
   },
   "outputs": [],
   "source": [
    "#6 调参\n",
    "#（1）从 sklearn.model_selection 导入 cross_val_score\n",
    "from sklearn.model_selection import cross_val_score\n",
    "#（2）使用 np.logspace 定义一组不同的alpha值，要求从0.001（1e-3）到100（1e2）生成均匀的50个数值\n",
    "alphas = np.logspace(-3,2,50)\n",
    "#（3）初始化一个空列表 test_scores，用于存储测试分数\n",
    "test_scores = []\n",
    "#（4）遍历每个alpha值，做以下事情：\n",
    "#  1）创建一个Ridge回归模型，设置alpha值\n",
    "#  2）使用交叉验证计算负均方误差的平方根，交叉验证的折数为5，所得分数记为 test_score\n",
    "#  3) 对 test_score取平均数，存入test_scores\n",
    "for alpha in alphas:\n",
    "    lr = Ridge(alpha)\n",
    "    test_score = np.sqrt(-cross_val_score(lr,X,y,cv=5,scoring=\"neg_mean_squared_error\"))\n",
    "    test_scores.append(np.mean(test_score))\n",
    "#（5）根据 alpha 和 test_scores绘制折线图，并将标题设置为\"Alpha vs CV Error\"\n",
    "plt.figure(figsize=(12, 8))\n",
    "plt.tick_params(axis=\"both\",labelsize = 18)\n",
    "plt.plot(alphas, test_scores,marker = \"o\")\n",
    "plt.xlabel('alpha', fontsize=18)\n",
    "plt.ylabel('test_scores', fontsize=18)\n",
    "plt.title('Alpha vs CV Error', fontsize=18)"
   ]
  },
  {
   "cell_type": "code",
   "execution_count": null,
   "metadata": {
    "collapsed": false,
    "pycharm": {
     "name": "#%%\n"
    }
   },
   "outputs": [],
   "source": [
    "#7 最小二乘法（LSM）\n",
    "#（1）实现LSM算法\n",
    "def LSM(X, y):\n",
    "    # 计算矩阵X的转置与X相乘，再求逆矩阵，最后将结果与X的转置相乘，再与向量y相乘，得到权重w\n",
    "    w = np.linalg.inv(X.T@X)@X.T@y#X.T@X等价于X.T.dot(X)\n",
    "    return w\n",
    "#（2）对X和y使用LSM算法，获得最终的参数final_w2\n",
    "final_w2 = LSM(X,y)\n",
    "#（3）输出final_w2和w，进行对比\n",
    "print(final_w2)\n",
    "print(w)"
   ]
  }
 ],
 "metadata": {
  "kernelspec": {
   "display_name": "Python 3",
   "language": "python",
   "name": "python3"
  },
  "language_info": {
   "codemirror_mode": {
    "name": "ipython",
    "version": 3
   },
   "file_extension": ".py",
   "mimetype": "text/x-python",
   "name": "python",
   "nbconvert_exporter": "python",
   "pygments_lexer": "ipython3",
   "version": "3.11.7"
  }
 },
 "nbformat": 4,
 "nbformat_minor": 0
}
