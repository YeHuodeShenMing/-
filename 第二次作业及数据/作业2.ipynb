{
 "cells": [
  {
   "cell_type": "markdown",
   "metadata": {
    "collapsed": true,
    "pycharm": {
     "name": "#%% md\n"
    }
   },
   "source": [
    "## 作业目录\n",
    "### 1.单变量线性回归\n",
    "#### 1.1 导入数据\n",
    "#### 1.2 查看数据及其特征\n",
    "#### 1.3 定义线性回归的代价函数\n",
    "#### 1.4 数据预处理\n",
    "#### 1.5 设置权重向量 w\n",
    "#### 1.6 计算代价函数\n",
    "### 2.Batch Gradient Decent（批量梯度下降）\n",
    "#### 2.1 实现批量梯度下降算法\n",
    "#### 2.2 初始化变量\n",
    "#### 2.3 运行梯度下降算法\n",
    "#### 2.4 计算训练模型的代价函数(误差)\n",
    "#### 2.5 绘制线性模型并显示数据，查看拟合效果\n",
    "### 3.多变量线性回归\n",
    "#### 3.1 加载数据集\n",
    "#### 3.2 特征标准化\n",
    "#### 3.3 数据预处理并运行线性回归程序\n",
    "#### 3.4 计算模型的代价(误差)\n",
    "#### 3.5 查看训练进程\n",
    "#### 3.6 使用scikit-learn的实现线性回归\n",
    "### 4.L2正则化\n",
    "### 5.L1正则化\n",
    "### 6.调参\n",
    "### 7. 最小二乘法(LSM)"
   ]
  },
  {
   "cell_type": "markdown",
   "metadata": {},
   "source": [
    "刘佳辰 2021301525"
   ]
  },
  {
   "cell_type": "code",
   "execution_count": 199,
   "metadata": {
    "collapsed": false,
    "pycharm": {
     "name": "#%%\n"
    }
   },
   "outputs": [],
   "source": [
    "# 例：导入函数库，并进行相关设置\n",
    "import numpy as np\n",
    "import pandas as pd\n",
    "import matplotlib.pyplot as plt\n",
    "\n",
    "plt.rcParams['font.sans-serif']=['SimHei'] #用来正常显示中文标签\n",
    "plt.rcParams['axes.unicode_minus']=False #用来正常显示负号"
   ]
  },
  {
   "cell_type": "code",
   "execution_count": 200,
   "metadata": {
    "collapsed": false,
    "pycharm": {
     "name": "#%%\n"
    }
   },
   "outputs": [],
   "source": [
    "#1.1 使用 pandas 库函数读取 regress_data1.csv 文件内的数据，将读入的数据命名为 data、\n",
    "data  = pd.DataFrame(pd.read_csv(\"regress_data1.csv\"))"
   ]
  },
  {
   "cell_type": "code",
   "execution_count": 201,
   "metadata": {
    "collapsed": false,
    "pycharm": {
     "name": "#%%\n"
    }
   },
   "outputs": [],
   "source": [
    "# 1.2 （1）使用 data.head()查看导入的数据\n",
    "#     （2）使用 data.describe() 查看数据特征\n",
    "#     （3）根据读入的数据绘制散点图，x轴为\"人口\"，y轴为\"收益\"，\n",
    "#          需要将标签转移成水平方向，所有字体的大小设置为18"
   ]
  },
  {
   "cell_type": "code",
   "execution_count": 202,
   "metadata": {},
   "outputs": [
    {
     "data": {
      "text/html": [
       "<div>\n",
       "<style scoped>\n",
       "    .dataframe tbody tr th:only-of-type {\n",
       "        vertical-align: middle;\n",
       "    }\n",
       "\n",
       "    .dataframe tbody tr th {\n",
       "        vertical-align: top;\n",
       "    }\n",
       "\n",
       "    .dataframe thead th {\n",
       "        text-align: right;\n",
       "    }\n",
       "</style>\n",
       "<table border=\"1\" class=\"dataframe\">\n",
       "  <thead>\n",
       "    <tr style=\"text-align: right;\">\n",
       "      <th></th>\n",
       "      <th>人口</th>\n",
       "      <th>收益</th>\n",
       "    </tr>\n",
       "  </thead>\n",
       "  <tbody>\n",
       "    <tr>\n",
       "      <th>0</th>\n",
       "      <td>6.1101</td>\n",
       "      <td>17.5920</td>\n",
       "    </tr>\n",
       "    <tr>\n",
       "      <th>1</th>\n",
       "      <td>5.5277</td>\n",
       "      <td>9.1302</td>\n",
       "    </tr>\n",
       "    <tr>\n",
       "      <th>2</th>\n",
       "      <td>8.5186</td>\n",
       "      <td>13.6620</td>\n",
       "    </tr>\n",
       "    <tr>\n",
       "      <th>3</th>\n",
       "      <td>7.0032</td>\n",
       "      <td>11.8540</td>\n",
       "    </tr>\n",
       "    <tr>\n",
       "      <th>4</th>\n",
       "      <td>5.8598</td>\n",
       "      <td>6.8233</td>\n",
       "    </tr>\n",
       "  </tbody>\n",
       "</table>\n",
       "</div>"
      ],
      "text/plain": [
       "       人口       收益\n",
       "0  6.1101  17.5920\n",
       "1  5.5277   9.1302\n",
       "2  8.5186  13.6620\n",
       "3  7.0032  11.8540\n",
       "4  5.8598   6.8233"
      ]
     },
     "execution_count": 202,
     "metadata": {},
     "output_type": "execute_result"
    }
   ],
   "source": [
    "# 1.2.(1)使用 data.head()查看导入的数据\n",
    "data.head()\n"
   ]
  },
  {
   "cell_type": "code",
   "execution_count": 203,
   "metadata": {},
   "outputs": [
    {
     "data": {
      "text/html": [
       "<div>\n",
       "<style scoped>\n",
       "    .dataframe tbody tr th:only-of-type {\n",
       "        vertical-align: middle;\n",
       "    }\n",
       "\n",
       "    .dataframe tbody tr th {\n",
       "        vertical-align: top;\n",
       "    }\n",
       "\n",
       "    .dataframe thead th {\n",
       "        text-align: right;\n",
       "    }\n",
       "</style>\n",
       "<table border=\"1\" class=\"dataframe\">\n",
       "  <thead>\n",
       "    <tr style=\"text-align: right;\">\n",
       "      <th></th>\n",
       "      <th>人口</th>\n",
       "      <th>收益</th>\n",
       "    </tr>\n",
       "  </thead>\n",
       "  <tbody>\n",
       "    <tr>\n",
       "      <th>count</th>\n",
       "      <td>97.000000</td>\n",
       "      <td>97.000000</td>\n",
       "    </tr>\n",
       "    <tr>\n",
       "      <th>mean</th>\n",
       "      <td>8.159800</td>\n",
       "      <td>5.839135</td>\n",
       "    </tr>\n",
       "    <tr>\n",
       "      <th>std</th>\n",
       "      <td>3.869884</td>\n",
       "      <td>5.510262</td>\n",
       "    </tr>\n",
       "    <tr>\n",
       "      <th>min</th>\n",
       "      <td>5.026900</td>\n",
       "      <td>-2.680700</td>\n",
       "    </tr>\n",
       "    <tr>\n",
       "      <th>25%</th>\n",
       "      <td>5.707700</td>\n",
       "      <td>1.986900</td>\n",
       "    </tr>\n",
       "    <tr>\n",
       "      <th>50%</th>\n",
       "      <td>6.589400</td>\n",
       "      <td>4.562300</td>\n",
       "    </tr>\n",
       "    <tr>\n",
       "      <th>75%</th>\n",
       "      <td>8.578100</td>\n",
       "      <td>7.046700</td>\n",
       "    </tr>\n",
       "    <tr>\n",
       "      <th>max</th>\n",
       "      <td>22.203000</td>\n",
       "      <td>24.147000</td>\n",
       "    </tr>\n",
       "  </tbody>\n",
       "</table>\n",
       "</div>"
      ],
      "text/plain": [
       "              人口         收益\n",
       "count  97.000000  97.000000\n",
       "mean    8.159800   5.839135\n",
       "std     3.869884   5.510262\n",
       "min     5.026900  -2.680700\n",
       "25%     5.707700   1.986900\n",
       "50%     6.589400   4.562300\n",
       "75%     8.578100   7.046700\n",
       "max    22.203000  24.147000"
      ]
     },
     "execution_count": 203,
     "metadata": {},
     "output_type": "execute_result"
    }
   ],
   "source": [
    "# 1.2.(2)使用 data.describe() 查看数据特征\n",
    "data.describe()"
   ]
  },
  {
   "cell_type": "code",
   "execution_count": 204,
   "metadata": {},
   "outputs": [
    {
     "data": {
      "image/png": "[encoded data removed]",
      "text/plain": [
       "<Figure size 640x480 with 1 Axes>"
      ]
     },
     "metadata": {},
     "output_type": "display_data"
    }
   ],
   "source": [
    "# 1.2.(3)根据读入的数据绘制散点图，x轴为\"人口\"，y轴为\"收益\"，\n",
    "ax = data.plot.scatter(x=\"人口\",y=\"收益\")\n",
    "plt.xlabel(\"人口\",fontsize = 18)\n",
    "plt.ylabel(\"收益\",fontsize = 18,rotation = 0,labelpad = 20)\n",
    "ax.tick_params(axis=\"both\",labelsize = 18)"
   ]
  },
  {
   "cell_type": "code",
   "execution_count": 205,
   "metadata": {
    "collapsed": false,
    "pycharm": {
     "name": "#%%\n"
    }
   },
   "outputs": [],
   "source": [
    "# 1.3 定义线性回归的代价函数\n",
    "def computeCost(X, y, w):\n",
    "    \"\"\"\n",
    "    计算线性回归模型的代价函数。\n",
    "    参数：\n",
    "    X -- 特征矩阵，形状为 (n_samples, n_features)\n",
    "    y -- 标签向量，形状为 (n_samples,1)\n",
    "    w -- 权重向量，形状为 (n_features,1)\n",
    "\n",
    "    返回值：\n",
    "    代价函数的值\n",
    "    \"\"\"\n",
    "    inner = np.power(X @ w - y, 2)  # 计算预测值与实际值之差的平方和\n",
    "    return np.sum(inner) / (2 * len(X))  # 对平方和进行求和并除以样本数量的两倍，得到代价函数的值"
   ]
  },
  {
   "cell_type": "code",
   "execution_count": 206,
   "metadata": {
    "collapsed": false,
    "pycharm": {
     "name": "#%%\n"
    }
   },
   "outputs": [],
   "source": [
    "#1.4.(1)将一列名为'Ones'的值全为1的列插入到 data 的第一列位置\n",
    "data.insert(0,\"One\",1)"
   ]
  },
  {
   "cell_type": "code",
   "execution_count": 207,
   "metadata": {},
   "outputs": [],
   "source": [
    "#1.4.(2)获取 data 的列数\n",
    "column = data.shape[1]"
   ]
  },
  {
   "cell_type": "code",
   "execution_count": 208,
   "metadata": {},
   "outputs": [],
   "source": [
    "#1.4.(3)获取除最后一列外的所有列作为特征矩阵X\n",
    "X = data.iloc[:,:2]"
   ]
  },
  {
   "cell_type": "code",
   "execution_count": 209,
   "metadata": {},
   "outputs": [],
   "source": [
    "#1.4.(4)获取最后一列作为目标变量y\n",
    "y = data.iloc[3]"
   ]
  },
  {
   "cell_type": "code",
   "execution_count": 210,
   "metadata": {},
   "outputs": [],
   "source": [
    "#1.4.(5)使用 head() 函数观察下 X (训练集) 和 y (目标变量)是否正确.\n"
   ]
  },
  {
   "cell_type": "code",
   "execution_count": 211,
   "metadata": {},
   "outputs": [],
   "source": [
    "#1.4.(6)使用DataFrame类型数据的values属性将 X 和 y 转换为 Numpy 矩阵"
   ]
  },
  {
   "cell_type": "code",
   "execution_count": 212,
   "metadata": {},
   "outputs": [
    {
     "data": {
      "text/plain": [
       "One     1.0000\n",
       "人口      7.0032\n",
       "收益     11.8540\n",
       "Name: 3, dtype: float64"
      ]
     },
     "execution_count": 212,
     "metadata": {},
     "output_type": "execute_result"
    }
   ],
   "source": [
    "y"
   ]
  },
  {
   "cell_type": "code",
   "execution_count": 213,
   "metadata": {
    "collapsed": false,
    "pycharm": {
     "name": "#%%\n"
    }
   },
   "outputs": [],
   "source": [
    "#1.5 （1）使用 Numpy 初始化权重向量 w，w 的行数与 X 的列数相同，w 的列数为1，且要求初始时w的所有值为0\n",
    "#    （2）查看 X、w和 y 的维度"
   ]
  },
  {
   "cell_type": "code",
   "execution_count": 214,
   "metadata": {
    "collapsed": false,
    "pycharm": {
     "name": "#%%\n"
    }
   },
   "outputs": [],
   "source": [
    "#1.6 使用 computeCost 计算代价"
   ]
  },
  {
   "cell_type": "code",
   "execution_count": 215,
   "metadata": {
    "collapsed": false,
    "pycharm": {
     "name": "#%%\n"
    }
   },
   "outputs": [],
   "source": [
    "# 2.1 实现批量梯度下降算法\n",
    "def batch_gradientDescent(X, y, w, alpha, count):\n",
    "    \"\"\"\n",
    "    批量梯度下降算法实现。\n",
    "\n",
    "    参数：\n",
    "    X -- 特征矩阵，形状为 (n_samples, n_features)\n",
    "    y -- 标签向量，形状为 (n_samples,1)\n",
    "    w -- 权重向量，形状为 (n_features,1)\n",
    "    alpha -- 学习率\n",
    "    count -- 迭代次数\n",
    "\n",
    "    返回值：\n",
    "    w -- 更新后的权重向量\n",
    "    costs -- 每次迭代的代价函数值列表\n",
    "    \"\"\"\n",
    "    # 初始化代价函数值列表\n",
    "    costs = []\n",
    "\n",
    "    # 对每个样本进行迭代\n",
    "    for i in range(count):\n",
    "        # 根据公式更新权重向量\n",
    "        w = w - (X.T @ (X @ w - y)) * alpha / len(X)\n",
    "\n",
    "        # 计算当前代价函数值并添加到列表中\n",
    "        cost = computeCost(X, y, w)\n",
    "        costs.append(cost)\n",
    "\n",
    "        # 每隔100次迭代输出一次当前代价函数值\n",
    "        if i % 100 == 0:\n",
    "            print(\"在第{}次迭代中，cost的值是：{}。\".format(i, cost))\n",
    "\n",
    "    # 返回最终的权重向量和代价函数值列表\n",
    "    return w, costs"
   ]
  },
  {
   "cell_type": "code",
   "execution_count": 216,
   "metadata": {
    "collapsed": false,
    "pycharm": {
     "name": "#%%\n"
    }
   },
   "outputs": [],
   "source": [
    "#2.2 初始化学习率 alpha = 0.01 ，迭代次数 iter = 2000"
   ]
  },
  {
   "cell_type": "code",
   "execution_count": 217,
   "metadata": {
    "collapsed": false,
    "pycharm": {
     "name": "#%%\n"
    }
   },
   "outputs": [],
   "source": [
    "#2.3 使用 batch_gradientDescent 函数获取更新后的权重向量 w 和 损失值数组 cost，并输出权重向量 w"
   ]
  },
  {
   "cell_type": "code",
   "execution_count": 218,
   "metadata": {
    "collapsed": false,
    "pycharm": {
     "name": "#%%\n"
    }
   },
   "outputs": [],
   "source": [
    "#2.4 使用 computeCost 函数重新计算代价并输出"
   ]
  },
  {
   "cell_type": "code",
   "execution_count": 219,
   "metadata": {
    "collapsed": false,
    "pycharm": {
     "name": "#%%\n"
    }
   },
   "outputs": [],
   "source": [
    "#2.5 绘制代价随迭代次数变化的折线图\n",
    "#(1) 创建图形和轴对象\n",
    "#(2) 绘制代价随迭代次数的变化曲线\n",
    "#(3) 设置x轴和y轴标签，x轴为\"迭代次数\"，y轴为\"代价\"\n",
    "#(4) 设置图标题为\"误差和训练Epoch数\"\n",
    "#(5) 显示图形"
   ]
  },
  {
   "cell_type": "code",
   "execution_count": 220,
   "metadata": {
    "collapsed": false,
    "pycharm": {
     "name": "#%%\n"
    }
   },
   "outputs": [],
   "source": [
    "#3.1 （1）使用pandas库读取 regress_data2.csv 内的数据，将读入的数据命名为 data2\n",
    "#    （2）使用 head() 查看读入的数据"
   ]
  },
  {
   "cell_type": "code",
   "execution_count": 221,
   "metadata": {
    "collapsed": false,
    "pycharm": {
     "name": "#%%\n"
    }
   },
   "outputs": [],
   "source": [
    "#3.2 对数据进行标准化 x =（x - x_mean）/x_std，随后使用head()查看标准化后的数据"
   ]
  },
  {
   "cell_type": "code",
   "execution_count": 222,
   "metadata": {
    "collapsed": false,
    "pycharm": {
     "name": "#%%\n"
    }
   },
   "outputs": [],
   "source": [
    "#3.3 重复第1部分的预处理步骤，并对新数据集运行线性回归程序\n",
    "#(1)添加一列全为1的列，在第一列处，且列名为\"Ones\"\n",
    "#(2)设置X2（训练数据）和y2（目标变量），最后一列设置为目标变量y2，其余列设置为X2\n",
    "#(3)将X2和y2转化为Numpy类型的数据，并设置权重向量w2，w2是大小(3,1)的权重向量，使用np.zeros()函数进行初始化\n",
    "#(4)使用batch_gradientDescent函数在数据集上进行线性回归，并获取训练后的权重向量w2和损失值数组cost2"
   ]
  },
  {
   "cell_type": "code",
   "execution_count": 223,
   "metadata": {
    "collapsed": false,
    "pycharm": {
     "name": "#%%\n"
    }
   },
   "outputs": [],
   "source": [
    "#3.4 使用 computeCost 计算模型代价（针对w2）"
   ]
  },
  {
   "cell_type": "code",
   "execution_count": 224,
   "metadata": {
    "collapsed": false,
    "pycharm": {
     "name": "#%%\n"
    }
   },
   "outputs": [],
   "source": [
    "#3.5 查看训练进程（绘制代价随迭代次数变化的折线图）\n",
    "#(1) 创建一个大小为 (12, 8) 的画布和坐标轴对象\n",
    "#(2) 在坐标轴上绘制代价函数 cost2 随迭代次数 iters 的变化曲线，使用红色线条\n",
    "#(3) 设置 x 轴标签为 \"迭代次数\",字体大小为 18\n",
    "#(4) 设置 y 轴标签为 \"代价\",旋转角度为 0,字体大小为 18\n",
    "#(4) 设置图表标题为 \"误差和训练Epoch数\",字体大小为 18\n",
    "#(5) 显示图形"
   ]
  },
  {
   "cell_type": "code",
   "execution_count": 225,
   "metadata": {
    "collapsed": false,
    "pycharm": {
     "name": "#%%\n"
    }
   },
   "outputs": [],
   "source": [
    "#3.6 使用scikit-learn的线性回归函数\n",
    "#(1)从 sklearn.linear_model 库中导入线性回归模型 LinearRegression\n",
    "#(2)创建线性回归模型对象\n",
    "#(3)使用训练数据 X 和标签 y 对模型进行拟合\n",
    "#(4)查看scikit-learn model的预测表现\n",
    "#  1） 取特征矩阵 X 的第二列作为自变量 x\n",
    "#  2） 使用模型对x进行预测，并将预测结果展平为一维数组 f\n",
    "#  3） 创建画布和坐标轴对象\n",
    "#  4） 在坐标轴上绘制预测值 f 随人口规模 x 的变化曲线，使用红色线条，并添加标签为\"预测值\"\n",
    "#  5） 在坐标轴上绘制训练数据点的散点图，并添加标签为\"训练数据\"\n",
    "#  6） 显示图例，并设置位置和字体大小（loc = 2,fontsize=18）\n",
    "#  7） 设置 x 轴标签为\"人口\"，字体大小为18\n",
    "#  8） 设置 y 轴标签为\"收益\"，旋转角度为0，字体大小为18\n",
    "#  9） 设置图表标题为\"预测收益和人口规模\"，字体大小为18\n",
    "#  10）显示图表"
   ]
  },
  {
   "cell_type": "code",
   "execution_count": 226,
   "metadata": {
    "collapsed": false,
    "pycharm": {
     "name": "#%%\n"
    }
   },
   "outputs": [],
   "source": [
    "#4 L2正则化\n",
    "#（1）从 sklearn.linear_model 导入岭回归模型 Ridge\n",
    "#（2）使用 Ridge 创建模型\n",
    "#（3）对X和y使用 Ridge的fit()函数更新模型的参数\n",
    "#（4）重复3.5(4)中的步骤，绘制图表：\n",
    "#  1） 取特征矩阵 X 的第二列作为自变量 x\n",
    "#  2） 使用模型对x进行预测，并将预测结果展平为一维数组 f\n",
    "#  3） 创建画布和坐标轴对象\n",
    "#  4） 在坐标轴上绘制预测值 f 随人口规模 x 的变化曲线，使用红色线条，并添加标签为\"预测值Ridge\"\n",
    "#  5） 在坐标轴上绘制训练数据点的散点图，并添加标签为\"训练数据\"\n",
    "#  6） 显示图例，并设置位置和字体大小（loc = 2,fontsize=18）\n",
    "#  7） 设置 x 轴标签为\"人口\"，字体大小为18\n",
    "#  8） 设置 y 轴标签为\"收益\"，旋转角度为0，字体大小为18\n",
    "#  9） 设置图表标题为\"预测收益和人口规模\"，字体大小为18"
   ]
  },
  {
   "cell_type": "code",
   "execution_count": 227,
   "metadata": {
    "collapsed": false,
    "pycharm": {
     "name": "#%%\n"
    }
   },
   "outputs": [],
   "source": [
    "#5 L1正则化\n",
    "#（1）从 sklearn.linear_model 导入回归模型 Lasso\n",
    "#（2）使用 Lasso 创建模型\n",
    "#（3）对X和y使用 Lasso的fit()函数更新模型的参数\n",
    "#（4） 重复4(4)中的步骤，绘制图表：\n",
    "#  1） 取特征矩阵 X 的第二列作为自变量 x\n",
    "#  2） 使用模型对x进行预测，并将预测结果展平为一维数组 f\n",
    "#  3） 创建画布和坐标轴对象\n",
    "#  4） 在坐标轴上绘制预测值 f 随人口规模 x 的变化曲线，使用红色线条，并添加标签为\"预测值Lasso\"\n",
    "#  5） 在坐标轴上绘制训练数据点的散点图，并添加标签为\"训练数据\"\n",
    "#  6） 显示图例，并设置位置和字体大小（loc = 2,fontsize=18）\n",
    "#  7） 设置 x 轴标签为\"人口\"，字体大小为18\n",
    "#  8） 设置 y 轴标签为\"收益\"，旋转角度为0，字体大小为18\n",
    "#  9） 设置图表标题为\"预测收益和人口规模\"，字体大小为18"
   ]
  },
  {
   "cell_type": "code",
   "execution_count": 228,
   "metadata": {
    "collapsed": false,
    "pycharm": {
     "name": "#%%\n"
    }
   },
   "outputs": [],
   "source": [
    "#6 调参\n",
    "#（1）从 sklearn.linear_model 导入 cross_val_score\n",
    "#（2）使用 np.logspace 定义一组不同的alpha值，要求从0.001（1e-3）到100（1e2）生成均匀的50个数值\n",
    "#（3）初始化一个空列表 test_scores，用于存储测试分数\n",
    "#（4）遍历每个alpha值，做以下事情：\n",
    "#  1）创建一个Ridge回归模型，设置alpha值\n",
    "#  2）使用交叉验证计算负均方误差的平方根，交叉验证的折数为5，所得分数记为 test_score\n",
    "#  3) 对 test_score取平均数，存入test_scores\n",
    "#（5）根据 alpha 和 test_scores绘制折线图，并将标题设置为\"Alpha vs CV Error\""
   ]
  },
  {
   "cell_type": "code",
   "execution_count": 229,
   "metadata": {
    "collapsed": false,
    "pycharm": {
     "name": "#%%\n"
    }
   },
   "outputs": [],
   "source": [
    "#7 最小二乘法（LSM）\n",
    "#（1）实现LSM算法\n",
    "def LSM(X, y):\n",
    "    # 计算矩阵X的转置与X相乘，再求逆矩阵，最后将结果与X的转置相乘，再与向量y相乘，得到权重w\n",
    "    w = np.linalg.inv(X.T@X)@X.T@y#X.T@X等价于X.T.dot(X)\n",
    "    return w\n",
    "#（2）对X和y使用LSM算法，获得最终的参数final_w2\n",
    "#（3）输出final_w2和w，进行对比"
   ]
  }
 ],
 "metadata": {
  "kernelspec": {
   "display_name": "Python 3",
   "language": "python",
   "name": "python3"
  },
  "language_info": {
   "codemirror_mode": {
    "name": "ipython",
    "version": 3
   },
   "file_extension": ".py",
   "mimetype": "text/x-python",
   "name": "python",
   "nbconvert_exporter": "python",
   "pygments_lexer": "ipython3",
   "version": "3.11.7"
  }
 },
 "nbformat": 4,
 "nbformat_minor": 0
}
