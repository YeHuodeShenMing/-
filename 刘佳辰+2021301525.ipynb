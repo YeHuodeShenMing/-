{
 "cells": [
  {
   "cell_type": "markdown",
   "id": "16cb47a2",
   "metadata": {},
   "source": [
    "## 作业目录\n",
    "### 1.Numpy\n",
    "#### 1.1 一维数组创建\n",
    "#### 1.2 多维数组创建\n",
    "#### 1.3 创建全零数组\n",
    "#### 1.4 创建连续数组\n",
    "#### 1.5 列表转为矩阵\n",
    "#### 1.6 reshape操作\n",
    "#### 1.7 得到矩阵的维度\n",
    "#### 1.8 行数和列数\n",
    "#### 1.9 元素个数\n",
    "#### 1.10 一维矩阵运算\n",
    "#### 1.11 多维矩阵运算\n",
    "#### 1.12 矩阵的极值索引\n",
    "#### 1.13 Numpy切片\n",
    "#### 1.14 矩阵的垂直堆叠\n",
    "#### 1.15 矩阵的水平堆叠\n",
    "#### 1.16 多个矩阵堆叠\n",
    "### 2.Pandas\n",
    "#### 2.1 Series创建\n",
    "#### 2.2 DataFrame创建\n",
    "#### 2.3 DataFrame的简单运用\n",
    "#### 2.4 根据位置设置loc和iloc\n",
    "#### 2.5 根据条件设置\n",
    "#### 2.6 添加Series序列\n",
    "#### 2.7 修改一整行数据\n",
    "### 3. matplotlib\n",
    "#### 3.1 绘制指定函数的图像\n",
    "#### 3.2 使用不同颜色绘制不同函数的图像\n",
    "#### 3.3 绘制散点图\n",
    "#### 3.4 绘制柱状图\n",
    "#### 3.5 绘制折线图\n",
    "### 4 scipy\n",
    "#### 4.1 计算特征值和特征向量\n",
    "#### 4.2 奇异值分解\n",
    "### 5 Seaborn\n",
    "#### 5.1 绘制折线图\n",
    "#### 5.2 绘制散点图\n",
    "#### 5.3 绘制热力图"
   ]
  },
  {
   "cell_type": "markdown",
   "id": "cda32213",
   "metadata": {},
   "source": [
    "姓名：刘佳辰\n",
    "学号：2021301525"
   ]
  },
  {
   "cell_type": "code",
   "execution_count": 1,
   "id": "ef3fab6d",
   "metadata": {},
   "outputs": [],
   "source": [
    "# 例：导入numpy库，直接在当前单元格内输入代码并运行\n",
    "import numpy as np"
   ]
  },
  {
   "cell_type": "code",
   "execution_count": 2,
   "id": "206ad8ef",
   "metadata": {},
   "outputs": [
    {
     "name": "stdout",
     "output_type": "stream",
     "text": [
      "[1 2 3]\n"
     ]
    }
   ],
   "source": [
    "# 1.1 创建一个包含有三个元素：1,2,3的一维array，打印出创建的array\n",
    "a1D = np.array([1,2,3])\n",
    "print(a1D)"
   ]
  },
  {
   "cell_type": "code",
   "execution_count": 3,
   "id": "a9d10708",
   "metadata": {},
   "outputs": [
    {
     "name": "stdout",
     "output_type": "stream",
     "text": [
      "[[1 2]\n",
      " [3 4]\n",
      " [5 6]]\n"
     ]
    }
   ],
   "source": [
    "# 1.2 创建一个三行两列的array，打印出创建的array\n",
    "a2D_1 = np.array([[1,2],[3,4],[5,6]])\n",
    "print(a2D_1)"
   ]
  },
  {
   "cell_type": "code",
   "execution_count": 4,
   "id": "cc8d6596",
   "metadata": {},
   "outputs": [
    {
     "name": "stdout",
     "output_type": "stream",
     "text": [
      "[[0 0 0]\n",
      " [0 0 0]\n",
      " [0 0 0]]\n"
     ]
    }
   ],
   "source": [
    "# 1.3 创建一个三行三列的全零array，打印出创建的array\n",
    "a2D_2 = np.array([[0,0,0],[0,0,0],[0,0,0]])\n",
    "print(a2D_2)"
   ]
  },
  {
   "cell_type": "code",
   "execution_count": 5,
   "id": "03b2e3e3",
   "metadata": {},
   "outputs": [
    {
     "name": "stdout",
     "output_type": "stream",
     "text": [
      "[ 5 10 15 20 25 30 35]\n"
     ]
    }
   ],
   "source": [
    "# 1.4 创建连续数组, 使用arange()函数创建一个从5-36的整数组成的array，步长为5，打印出创建的array\n",
    "consist_array = np.arange(5,36,5)\n",
    "print(consist_array)"
   ]
  },
  {
   "cell_type": "code",
   "execution_count": 6,
   "id": "32c5c426",
   "metadata": {},
   "outputs": [
    {
     "name": "stdout",
     "output_type": "stream",
     "text": [
      "[[10 20 30 40 50 60]]\n"
     ]
    }
   ],
   "source": [
    "# 1.5 列表转为矩阵，把[10,20,30,40,50,60]这个列表转化为array\n",
    "arr = np.array([[10,20,30,40,50,60]])\n",
    "print(arr)\n"
   ]
  },
  {
   "cell_type": "code",
   "execution_count": 7,
   "id": "b5070141",
   "metadata": {},
   "outputs": [
    {
     "name": "stdout",
     "output_type": "stream",
     "text": [
      "[[10 20 30]\n",
      " [40 50 60]]\n"
     ]
    }
   ],
   "source": [
    "# 1.6 reshape操作，使用reshape改变习题1.5创建的array形状至两行三列，打印出创建的array\n",
    "arr_shaped = arr.reshape(2,3)\n",
    "print(arr_shaped)"
   ]
  },
  {
   "cell_type": "code",
   "execution_count": 8,
   "id": "8ffe8779",
   "metadata": {},
   "outputs": [
    {
     "name": "stdout",
     "output_type": "stream",
     "text": [
      "2\n"
     ]
    }
   ],
   "source": [
    "# 1.7 得到矩阵的维度，打印出习题1.6生成的矩阵的维度(ndim)\n",
    "print(arr_shaped.ndim)"
   ]
  },
  {
   "cell_type": "code",
   "execution_count": 9,
   "id": "9ba8f35d",
   "metadata": {},
   "outputs": [
    {
     "name": "stdout",
     "output_type": "stream",
     "text": [
      "2 3\n"
     ]
    }
   ],
   "source": [
    "# 1.8 行数和列数，打印出题目1.6生成的矩阵的行数和列数\n",
    "print(arr_shaped.shape[0],arr_shaped.shape[1])"
   ]
  },
  {
   "cell_type": "code",
   "execution_count": 10,
   "id": "1d6a9299",
   "metadata": {},
   "outputs": [
    {
     "name": "stdout",
     "output_type": "stream",
     "text": [
      "6\n"
     ]
    }
   ],
   "source": [
    "# 1.9 元素个数,打印出题目1.6生成的矩阵的元素个数\n",
    "print(arr_shaped.size)"
   ]
  },
  {
   "cell_type": "code",
   "execution_count": 11,
   "id": "1598d59e",
   "metadata": {},
   "outputs": [
    {
     "name": "stdout",
     "output_type": "stream",
     "text": [
      "[0.69015077 0.27295494 0.52751943 0.69849847]\n"
     ]
    }
   ],
   "source": [
    "# 1.10 一维矩阵的运算\n",
    "a = np.random.rand(4)\n",
    "b = np.random.rand(4)\n",
    "print(a+b)\n",
    "# 打印出a矩阵加b矩阵的结果"
   ]
  },
  {
   "cell_type": "code",
   "execution_count": 12,
   "id": "036327ab",
   "metadata": {},
   "outputs": [
    {
     "name": "stdout",
     "output_type": "stream",
     "text": [
      "[[0.41276566 0.48724224 0.34598422 0.54801782]\n",
      " [0.20587696 0.24302398 0.17256809 0.27333728]\n",
      " [0.25503011 0.30104598 0.21376874 0.33859659]\n",
      " [0.19716453 0.23273953 0.16526524 0.26177002]]\n"
     ]
    }
   ],
   "source": [
    "# 1.11 一维矩阵的运算\n",
    "a = np.random.rand(4, 1)\n",
    "b = np.random.rand(1, 4)\n",
    "# 打印出a矩阵加b矩阵和a矩阵点乘b矩阵的结果\n",
    "print(np.dot(a,b))"
   ]
  },
  {
   "cell_type": "code",
   "execution_count": 13,
   "id": "b6c34e2f",
   "metadata": {},
   "outputs": [
    {
     "name": "stdout",
     "output_type": "stream",
     "text": [
      "7\n"
     ]
    }
   ],
   "source": [
    "# 1.12 矩阵的极值索引\n",
    "a = np.random.rand(2,6).reshape((3,4))\n",
    "print(a.argmax())\n",
    "# 打印出矩阵A的最大元素的索引位置\n"
   ]
  },
  {
   "cell_type": "code",
   "execution_count": 14,
   "id": "2cd066a9",
   "metadata": {},
   "outputs": [
    {
     "name": "stdout",
     "output_type": "stream",
     "text": [
      "[0.0906328  0.64788974 0.51876904 0.25875508 0.59848143 0.72761139\n",
      " 0.01688844 0.05552577 0.49249588]\n"
     ]
    }
   ],
   "source": [
    "# 1.13 Numpy切片\n",
    "a = np.random.rand(12)\n",
    "# 打印出从索引位置从2到10的元素所组成的矩阵\n",
    "print(a[2:11])"
   ]
  },
  {
   "cell_type": "code",
   "execution_count": 15,
   "id": "5266439c",
   "metadata": {},
   "outputs": [
    {
     "name": "stdout",
     "output_type": "stream",
     "text": [
      "[[0.2836769  0.3175329  0.73999241]\n",
      " [0.32830447 0.85215972 0.93725679]\n",
      " [0.33730691 0.03991671 0.96450827]\n",
      " [0.10141438 0.71760941 0.36353843]]\n"
     ]
    }
   ],
   "source": [
    "# 1.14 矩阵的垂直堆叠\n",
    "a = np.random.rand(2,3)\n",
    "b = np.random.rand(2,3)\n",
    "# 垂直堆叠（上下合并）两个矩阵，并打印出结果\n",
    "a_above_b = np.vstack((a,b))\n",
    "print(a_above_b)\n"
   ]
  },
  {
   "cell_type": "code",
   "execution_count": 16,
   "id": "154035da",
   "metadata": {},
   "outputs": [
    {
     "name": "stdout",
     "output_type": "stream",
     "text": [
      "[[0.37590881 0.10781943 0.50232019 0.44356406 0.45440563 0.85025001]\n",
      " [0.75721675 0.39050661 0.29755656 0.24284377 0.06524746 0.22071679]]\n"
     ]
    }
   ],
   "source": [
    "# 1.15 矩阵的水平堆叠\n",
    "a = np.random.rand(2,3)\n",
    "b = np.random.rand(2,3)\n",
    "# 水平堆叠（左右合并）两个矩阵，并打印出结果\n",
    "a_left_b = np.hstack((a,b))\n",
    "print(a_left_b)"
   ]
  },
  {
   "cell_type": "code",
   "execution_count": 17,
   "id": "2abd8f4d",
   "metadata": {},
   "outputs": [
    {
     "name": "stdout",
     "output_type": "stream",
     "text": [
      "[[0.10139534 0.50845483 0.40249528 0.32088512 0.67800779 0.03853202]\n",
      " [0.6309416  0.72826495 0.12376471 0.81115596 0.5687734  0.11096493]\n",
      " [0.65353093 0.63977723 0.53183819 0.81482031 0.91980576 0.78503955]\n",
      " [0.17801635 0.15932638 0.43877562 0.71886612 0.76795871 0.92428076]]\n"
     ]
    }
   ],
   "source": [
    "# 1.16 多个矩阵堆叠\n",
    "a = np.random.rand(2,3)\n",
    "b = np.random.rand(2,3)\n",
    "c = np.random.rand(4,3)\n",
    "# 先垂直堆叠a,b再把得到的结果和c水平堆叠\n",
    "# print(f\"{a}\\n{b}\\n{c}\")\n",
    "a_above_b = np.vstack((a,b))\n",
    "a_b_left_c = np.hstack((a_above_b,c))\n",
    "print(a_b_left_c)"
   ]
  },
  {
   "cell_type": "code",
   "execution_count": 18,
   "id": "cb4ffe86",
   "metadata": {},
   "outputs": [],
   "source": [
    "import pandas as pd"
   ]
  },
  {
   "cell_type": "code",
   "execution_count": 19,
   "id": "25cfe134",
   "metadata": {},
   "outputs": [
    {
     "name": "stdout",
     "output_type": "stream",
     "text": [
      "0    1\n",
      "1    2\n",
      "2    3\n",
      "3    4\n",
      "4    5\n",
      "dtype: int64\n"
     ]
    }
   ],
   "source": [
    "# 2.1 Series创建，创建一个由[1, 2, 3, 4, 5]组成的Series，并打印出创建的Series\n",
    "s = pd.Series([1,2,3,4,5])\n",
    "print(s)"
   ]
  },
  {
   "cell_type": "code",
   "execution_count": 20,
   "id": "c84742e3",
   "metadata": {},
   "outputs": [
    {
     "name": "stdout",
     "output_type": "stream",
     "text": [
      "   A  B\n",
      "0  1  a\n",
      "1  2  b\n",
      "2  3  c\n",
      "3  4  d\n"
     ]
    }
   ],
   "source": [
    "# 2.2 DataFrame创建, \n",
    "data = {'A': [1, 2, 3, 4],\n",
    "        'B': ['a', 'b', 'c', 'd']}\n",
    "# A和B分别为两个列，创建的DataFrame应为：\n",
    "#    A  B\n",
    "# 0  1  a\n",
    "# 1  2  b\n",
    "# 2  3  c\n",
    "# 3  4  d\n",
    "#创建并打印出DataFrame创建\n",
    "df1 = pd.DataFrame(data)\n",
    "print(df1)"
   ]
  },
  {
   "cell_type": "code",
   "execution_count": 21,
   "id": "6b5f193f",
   "metadata": {},
   "outputs": [
    {
     "name": "stdout",
     "output_type": "stream",
     "text": [
      "0    a\n",
      "1    b\n",
      "2    c\n",
      "3    d\n",
      "Name: B, dtype: object\n"
     ]
    }
   ],
   "source": [
    "# 2.3 DataFrame的简单运用，根据习题2.2的结果，打印出第B列的元素的值\n",
    "df_b = df1[\"B\"]\n",
    "print(df_b)"
   ]
  },
  {
   "cell_type": "code",
   "execution_count": 22,
   "id": "0993acaa",
   "metadata": {},
   "outputs": [
    {
     "name": "stdout",
     "output_type": "stream",
     "text": [
      "             A   B   C   D\n",
      "2018-08-20   0   1   2   3\n",
      "2018-08-21   4   5   6   7\n",
      "2018-08-22   8   9  10  11\n",
      "2018-08-23  12  13  14  15\n",
      "2018-08-24  16  17  18  19\n",
      "2018-08-25  20  21  22  23\n"
     ]
    }
   ],
   "source": [
    "dates = pd.date_range('20180820',periods=6)\n",
    "df = pd.DataFrame(np.arange(24).reshape(6,4), index=dates, columns=['A','B','C','D'])\n",
    "print(df)"
   ]
  },
  {
   "cell_type": "code",
   "execution_count": 23,
   "id": "a912a435",
   "metadata": {},
   "outputs": [
    {
     "name": "stdout",
     "output_type": "stream",
     "text": [
      "             A   B   C   D\n",
      "2018-08-20   0  10   2   3\n",
      "2018-08-21   4   5   6   7\n",
      "2018-08-22   8   9  10  11\n",
      "2018-08-23  12  13  14  15\n",
      "2018-08-24  16  17  18  19\n",
      "2018-08-25  20  21  22  23\n"
     ]
    }
   ],
   "source": [
    "# 2.4 根据位置设置loc和iloc,根据上一个cell运行的结果，将df中第一行(2018-08-20)第二列('B')的值设为10，打印出修改后的df\n",
    "df.iloc[0,1] = 10\n",
    "print(df)"
   ]
  },
  {
   "cell_type": "code",
   "execution_count": 24,
   "id": "58a58e62",
   "metadata": {},
   "outputs": [
    {
     "name": "stdout",
     "output_type": "stream",
     "text": [
      "             A  B   C   D\n",
      "2018-08-20   0  0   2   3\n",
      "2018-08-21   4  5   6   7\n",
      "2018-08-22   8  0  10  11\n",
      "2018-08-23  12  0  14  15\n",
      "2018-08-24  16  0  18  19\n",
      "2018-08-25  20  0  22  23\n"
     ]
    }
   ],
   "source": [
    "# 2.5 根据条件设置, 在习题2.4的基础上，将df中第二列('B')中大于5的元素全部置为0，打印出修改后的df\n",
    "df.loc[df.B>5,\"B\"]=0\n",
    "print(df)"
   ]
  },
  {
   "cell_type": "code",
   "execution_count": 25,
   "id": "8b7b786e",
   "metadata": {},
   "outputs": [
    {
     "name": "stdout",
     "output_type": "stream",
     "text": [
      "             A  B   C   D  E\n",
      "2018-08-20   0  0   2   3  1\n",
      "2018-08-21   4  5   6   7  2\n",
      "2018-08-22   8  0  10  11  3\n",
      "2018-08-23  12  0  14  15  4\n",
      "2018-08-24  16  0  18  19  5\n",
      "2018-08-25  20  0  22  23  6\n"
     ]
    }
   ],
   "source": [
    "# 2.6 添加Series序列，在习题2.5的基础上，将[1,2,3,4,5,6]作为一列插入到df的最后一列后，列的名称为E，打印出修改后的df\n",
    "added = pd.Series([1,2,3,4,5,6],index=dates)\n",
    "df[\"E\"]=added\n",
    "print(df)"
   ]
  },
  {
   "cell_type": "code",
   "execution_count": 26,
   "id": "49ac0a79",
   "metadata": {},
   "outputs": [
    {
     "name": "stdout",
     "output_type": "stream",
     "text": [
      "             A  B   C   D  E\n",
      "2018-08-20   0  0   0   0  0\n",
      "2018-08-21   4  5   6   7  2\n",
      "2018-08-22   8  0  10  11  3\n",
      "2018-08-23  12  0  14  15  4\n",
      "2018-08-24  16  0  18  19  5\n",
      "2018-08-25  20  0  22  23  6\n"
     ]
    }
   ],
   "source": [
    "# 2.7 修改一整行数据，在习题2.6的基础上，将第一行的数据全部置为0，打印出修改后的df\n",
    "df.iloc[0,:]= 0\n",
    "print(df)"
   ]
  },
  {
   "cell_type": "code",
   "execution_count": 27,
   "id": "1d4b0775",
   "metadata": {},
   "outputs": [],
   "source": [
    "import  matplotlib.pyplot as plt\n",
    "import numpy as np"
   ]
  },
  {
   "cell_type": "code",
   "execution_count": 28,
   "id": "3699d988",
   "metadata": {},
   "outputs": [
    {
     "data": {
      "text/plain": [
       "[<matplotlib.lines.Line2D at 0x207ccec1e50>]"
      ]
     },
     "execution_count": 28,
     "metadata": {},
     "output_type": "execute_result"
    },
    {
     "data": {
      "image/png": "[encoded data removed]",
      "text/plain": [
       "<Figure size 640x480 with 1 Axes>"
      ]
     },
     "metadata": {},
     "output_type": "display_data"
    }
   ],
   "source": [
    "# 3.1 绘制指定函数的图像，绘制y=x**2函数的图像\n",
    "x=np.arange(-10,11,1)\n",
    "y = x**2\n",
    "plt.plot(x,y)"
   ]
  },
  {
   "cell_type": "code",
   "execution_count": 29,
   "id": "396ba292",
   "metadata": {},
   "outputs": [
    {
     "data": {
      "text/plain": [
       "[<matplotlib.lines.Line2D at 0x207cd321910>]"
      ]
     },
     "execution_count": 29,
     "metadata": {},
     "output_type": "execute_result"
    },
    {
     "data": {
      "image/png": "[encoded data removed]",
      "text/plain": [
       "<Figure size 640x480 with 1 Axes>"
      ]
     },
     "metadata": {},
     "output_type": "display_data"
    }
   ],
   "source": [
    "# 3.2 使用不同的颜色绘制不同函数的图像，分别y1=2*x+1和y2=x**2这两个函数的图像，要求两个图像的颜色不同\n",
    "x=np.arange(-10,11,1)\n",
    "y1 = 2*x+1\n",
    "y2 = x**2\n",
    "plt.plot(x,y1,\"r\")\n",
    "plt.plot(x,y2,\"b\")"
   ]
  },
  {
   "cell_type": "code",
   "execution_count": 30,
   "id": "03f8c5d5",
   "metadata": {},
   "outputs": [
    {
     "data": {
      "text/plain": [
       "<matplotlib.collections.PathCollection at 0x207cd4d9390>"
      ]
     },
     "execution_count": 30,
     "metadata": {},
     "output_type": "execute_result"
    },
    {
     "data": {
      "image/png": "[encoded data removed]",
      "text/plain": [
       "<Figure size 640x480 with 1 Axes>"
      ]
     },
     "metadata": {},
     "output_type": "display_data"
    }
   ],
   "source": [
    "# 3.3 绘制散点图，给出点的坐标列表：points = [(1, 2), (2, 3), (3, 5), (4, 7), (5, 11)]，绘制出散点图\n",
    "x = [1,2,3,4,5]\n",
    "y = [2,3,5,7,11]\n",
    "plt.scatter(x,y)"
   ]
  },
  {
   "cell_type": "code",
   "execution_count": 31,
   "id": "52ec2011",
   "metadata": {},
   "outputs": [
    {
     "data": {
      "text/plain": [
       "<BarContainer object of 5 artists>"
      ]
     },
     "execution_count": 31,
     "metadata": {},
     "output_type": "execute_result"
    },
    {
     "data": {
      "image/png": "[encoded data removed]",
      "text/plain": [
       "<Figure size 640x480 with 1 Axes>"
      ]
     },
     "metadata": {},
     "output_type": "display_data"
    }
   ],
   "source": [
    "# 3.4 绘制柱状图，给出类别和对应的值，categories = ['A', 'B', 'C', 'D', 'E'], values = [10, 20, 15, 25, 30]，绘制出柱状图\n",
    "x = np.array(['A', 'B', 'C', 'D', 'E'])\n",
    "y = np.array([10, 20, 15, 25, 30])\n",
    "\n",
    "plt.bar(x,y)"
   ]
  },
  {
   "cell_type": "code",
   "execution_count": 32,
   "id": "49a93439",
   "metadata": {},
   "outputs": [
    {
     "data": {
      "text/plain": [
       "[<matplotlib.lines.Line2D at 0x207cd58da10>]"
      ]
     },
     "execution_count": 32,
     "metadata": {},
     "output_type": "execute_result"
    },
    {
     "data": {
      "image/png": "[encoded data removed]",
      "text/plain": [
       "<Figure size 640x480 with 1 Axes>"
      ]
     },
     "metadata": {},
     "output_type": "display_data"
    }
   ],
   "source": [
    "# 3.5 绘制折线图，给出点的坐标列表：points = [(1, 2), (2, 3), (3, 5), (4, 7), (5, 11)]，绘制出折线图\n",
    "x = [1,2,3,4,5]\n",
    "y = [2,3,5,7,11]\n",
    "plt.plot(x,y)"
   ]
  },
  {
   "cell_type": "code",
   "execution_count": 33,
   "id": "6172f977",
   "metadata": {},
   "outputs": [],
   "source": [
    "from scipy import linalg"
   ]
  },
  {
   "cell_type": "code",
   "execution_count": 34,
   "id": "8ab45ff4",
   "metadata": {},
   "outputs": [
    {
     "name": "stdout",
     "output_type": "stream",
     "text": [
      "(1.1302775637731994+0j) (0.7697224362268005+0j)\n",
      "[ 0.91724574 -0.3983218 ]\n",
      "[0.79325185 0.60889368]\n"
     ]
    }
   ],
   "source": [
    "# 4.1 计算特征值和特征向量，\n",
    "A = np.array([[1, -0.3], [-0.1, 0.9]])\n",
    "# 打印出A的特征值和特征向量\n",
    "la,vars = linalg.eig(A)\n",
    "l1,l2 = la\n",
    "print(l1,l2)\n",
    "print(vars[:,0])\n",
    "print(vars[:,1])\n"
   ]
  },
  {
   "cell_type": "code",
   "execution_count": 35,
   "id": "0780d686",
   "metadata": {},
   "outputs": [
    {
     "name": "stdout",
     "output_type": "stream",
     "text": [
      "[[-0.42866713 -0.56630692 -0.7039467 ]\n",
      " [-0.80596391 -0.11238241  0.58119908]\n",
      " [ 0.40824829 -0.81649658  0.40824829]]\n"
     ]
    },
    {
     "data": {
      "text/plain": [
       "array([[1., 2., 3.],\n",
       "       [4., 5., 6.]])"
      ]
     },
     "execution_count": 35,
     "metadata": {},
     "output_type": "execute_result"
    }
   ],
   "source": [
    "A = np.array([[1,2,3],[4,5,6]])\n",
    "M,N = A.shape\n",
    "U,s,Vh = linalg.svd(A)\n",
    "Sig = linalg.diagsvd(s,M,N)\n",
    "U,Vh = U,Vh\n",
    "print(Vh)\n",
    "U.dot(Sig.dot(Vh))"
   ]
  },
  {
   "cell_type": "code",
   "execution_count": 36,
   "id": "9c4a4e7c",
   "metadata": {},
   "outputs": [
    {
     "name": "stdout",
     "output_type": "stream",
     "text": [
      "[[-0.21483724  0.88723069  0.40824829]\n",
      " [-0.52058739  0.24964395 -0.81649658]\n",
      " [-0.82633754 -0.38794278  0.40824829]]\n",
      "[[1.68481034e+01 0.00000000e+00 0.00000000e+00]\n",
      " [0.00000000e+00 1.06836951e+00 0.00000000e+00]\n",
      " [0.00000000e+00 0.00000000e+00 4.41842475e-16]]\n",
      "[[-0.47967118 -0.57236779 -0.66506441]\n",
      " [-0.77669099 -0.07568647  0.62531805]\n",
      " [-0.40824829  0.81649658 -0.40824829]]\n"
     ]
    }
   ],
   "source": [
    "# 4.2 奇异值分解\n",
    "A = np.array([[1, 2, 3],\n",
    "              [4, 5, 6],\n",
    "              [7, 8, 9]])\n",
    "# 打印出奇异值分解后的U，Σ，V\n",
    "M,N = A.shape\n",
    "U,s,V = linalg.svd(A)\n",
    "Sig = linalg.diagsvd(s,M,N)\n",
    "print(U)\n",
    "print(Sig)\n",
    "print(V)"
   ]
  },
  {
   "cell_type": "code",
   "execution_count": 37,
   "id": "e8081fb9",
   "metadata": {},
   "outputs": [],
   "source": [
    "import seaborn as sns\n",
    "import matplotlib.pyplot as plt"
   ]
  },
  {
   "cell_type": "code",
   "execution_count": 38,
   "id": "3c87122d",
   "metadata": {},
   "outputs": [
    {
     "name": "stderr",
     "output_type": "stream",
     "text": [
      "c:\\Users\\WSW\\anaconda3\\Lib\\site-packages\\seaborn\\_oldcore.py:1119: FutureWarning: use_inf_as_na option is deprecated and will be removed in a future version. Convert inf values to NaN before operating instead.\n",
      "  with pd.option_context('mode.use_inf_as_na', True):\n",
      "c:\\Users\\WSW\\anaconda3\\Lib\\site-packages\\seaborn\\_oldcore.py:1119: FutureWarning: use_inf_as_na option is deprecated and will be removed in a future version. Convert inf values to NaN before operating instead.\n",
      "  with pd.option_context('mode.use_inf_as_na', True):\n"
     ]
    },
    {
     "data": {
      "text/plain": [
       "<Axes: >"
      ]
     },
     "execution_count": 38,
     "metadata": {},
     "output_type": "execute_result"
    },
    {
     "data": {
      "image/png": "[encoded data removed]",
      "text/plain": [
       "<Figure size 640x480 with 1 Axes>"
      ]
     },
     "metadata": {},
     "output_type": "display_data"
    }
   ],
   "source": [
    "# 5.1 使用Seaborn绘制折线图， 给出点的坐标列表：points = [(1, 2), (2, 3), (3, 5), (4, 7), (5, 11)]，绘制出折线图\n",
    "points = [(1, 2), (2, 3), (3, 5), (4, 7), (5, 11)]\n",
    "# Unzip the points to x and y coordinates\n",
    "x,y = zip(*points)\n",
    "sns.lineplot(x=x, y=y)"
   ]
  },
  {
   "cell_type": "code",
   "execution_count": 39,
   "id": "e2b892d6",
   "metadata": {},
   "outputs": [
    {
     "data": {
      "text/plain": [
       "<Axes: >"
      ]
     },
     "execution_count": 39,
     "metadata": {},
     "output_type": "execute_result"
    },
    {
     "data": {
      "image/png": "[encoded data removed]",
      "text/plain": [
       "<Figure size 640x480 with 1 Axes>"
      ]
     },
     "metadata": {},
     "output_type": "display_data"
    }
   ],
   "source": [
    "# 5.2 使用Seaborn绘制折线图， 给出点的坐标列表：points = [(1, 2), (2, 3), (3, 5), (4, 7), (5, 11)]，绘制出散点图\n",
    "sns.scatterplot(x=x, y=y)"
   ]
  },
  {
   "cell_type": "code",
   "execution_count": 40,
   "id": "3f406bf8",
   "metadata": {},
   "outputs": [
    {
     "data": {
      "image/png": "[encoded data removed]",
      "text/plain": [
       "<Figure size 640x480 with 2 Axes>"
      ]
     },
     "metadata": {},
     "output_type": "display_data"
    }
   ],
   "source": [
    "# 5.3 使用Seaborn绘制热力图\n",
    "a = [[1, 2, 3],\n",
    "        [4, 5, 6],\n",
    "        [7, 8, 9]]\n",
    "# 绘制出a的热力图\n",
    "heatmap = sns.heatmap(a)"
   ]
  },
  {
   "cell_type": "code",
   "execution_count": null,
   "id": "74c50431",
   "metadata": {},
   "outputs": [],
   "source": []
  }
 ],
 "metadata": {
  "kernelspec": {
   "display_name": "Python 3",
   "language": "python",
   "name": "python3"
  },
  "language_info": {
   "codemirror_mode": {
    "name": "ipython",
    "version": 3
   },
   "file_extension": ".py",
   "mimetype": "text/x-python",
   "name": "python",
   "nbconvert_exporter": "python",
   "pygments_lexer": "ipython3",
   "version": "3.11.7"
  }
 },
 "nbformat": 4,
 "nbformat_minor": 5
}
